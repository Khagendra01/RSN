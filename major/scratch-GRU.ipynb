{
 "cells": [
  {
   "cell_type": "code",
   "execution_count": 21,
   "metadata": {},
   "outputs": [],
   "source": [
    "import numpy as np\n",
    "\n",
    "def sigmoid(x):\n",
    "    return 1 / (1 + np.exp(-x))\n",
    "\n",
    "def tanh(x):\n",
    "    return np.tanh(x)\n",
    "\n",
    "def sigmoid_derivative(x):\n",
    "    return sigmoid(x) * (1 - sigmoid(x))\n",
    "\n",
    "def tanh_derivative(x):\n",
    "    return 1 - np.tanh(x)**2\n",
    "\n",
    "def mse_loss(y_pred, y_true):\n",
    "    return ((y_pred - y_true) ** 2).mean()\n",
    "\n",
    "def mse_loss_derivative(y_pred, y_true):\n",
    "    return 2 * (y_pred - y_true) / y_true.size\n",
    "\n",
    "class GRUCell:\n",
    "    def __init__(self, input_size, hidden_size, learning_rate=0.01):\n",
    "        self.input_size = input_size\n",
    "        self.hidden_size = hidden_size\n",
    "        self.learning_rate = learning_rate\n",
    "        # Initialize weights\n",
    "        self.init_weights()\n",
    "        \n",
    "    def init_weights(self):\n",
    "        self.Wz = np.random.randn(self.hidden_size, self.input_size) * 0.1\n",
    "        self.Uz = np.random.randn(self.hidden_size, self.hidden_size) * 0.1\n",
    "        self.bz = np.zeros((self.hidden_size, 1))\n",
    "        \n",
    "        self.Wr = np.random.randn(self.hidden_size, self.input_size) * 0.1\n",
    "        self.Ur = np.random.randn(self.hidden_size, self.hidden_size) * 0.1\n",
    "        self.br = np.zeros((self.hidden_size, 1))\n",
    "        \n",
    "        self.Wh = np.random.randn(self.hidden_size, self.input_size) * 0.1\n",
    "        self.Uh = np.random.randn(self.hidden_size, self.hidden_size) * 0.1\n",
    "        self.bh = np.zeros((self.hidden_size, 1))\n",
    "        \n",
    "    def forward(self, x, h_prev):\n",
    "        # Store values for backpropagation\n",
    "        self.x, self.h_prev = x, h_prev\n",
    "        \n",
    "        # Update gate\n",
    "        self.z = sigmoid(np.dot(self.Wz, x) + np.dot(self.Uz, h_prev) + self.bz)\n",
    "        \n",
    "        # Reset gate\n",
    "        self.r = sigmoid(np.dot(self.Wr, x) + np.dot(self.Ur, h_prev) + self.br)\n",
    "        \n",
    "        # Candidate hidden state\n",
    "        self.h_tilde = tanh(np.dot(self.Wh, x) + np.dot(self.Uh, self.r * h_prev) + self.bh)\n",
    "        \n",
    "        # Final hidden state\n",
    "        h_next = self.z * h_prev + (1 - self.z) * self.h_tilde\n",
    "        \n",
    "        return h_next\n",
    "\n",
    "    def backward(self, d_h_next):\n",
    "        # Derivative of final hidden state\n",
    "        d_z = d_h_next * (self.h_prev - self.h_tilde)\n",
    "        d_h_prev = d_h_next * self.z\n",
    "        d_h_tilde = d_h_next * (1 - self.z)\n",
    "        \n",
    "        # Derivatives of the gates\n",
    "        d_h_tilde_raw = d_h_tilde * tanh_derivative(self.h_tilde)\n",
    "        d_r = np.dot(self.Uh.T, d_h_tilde_raw) * self.h_prev\n",
    "        d_h_prev += np.dot(self.Uh.T, d_h_tilde_raw) * self.r\n",
    "        \n",
    "        # Update weights and biases\n",
    "        self.Wh -= self.learning_rate * np.dot(d_h_tilde_raw, self.x.T)\n",
    "        self.Uh -= self.learning_rate * np.dot(d_h_tilde_raw, (self.r * self.h_prev).T)\n",
    "        self.bh -= self.learning_rate * d_h_tilde_raw.sum(axis=1, keepdims=True)\n",
    "        \n",
    "        self.Wr -= self.learning_rate * np.dot(d_r * sigmoid_derivative(self.r), self.x.T)\n",
    "        self.Ur -= self.learning_rate * np.dot(d_r * sigmoid_derivative(self.r), self.h_prev.T)\n",
    "        self.br -= self.learning_rate * (d_r * sigmoid_derivative(self.r)).sum(axis=1, keepdims=True)\n",
    "        \n",
    "        self.Wz -= self.learning_rate * np.dot(d_z * sigmoid_derivative(self.z), self.x.T)\n",
    "        self.Uz -= self.learning_rate * np.dot(d_z * sigmoid_derivative(self.z), self.h_prev.T)\n",
    "        self.bz -= self.learning_rate * (d_z * sigmoid_derivative(self.z)).sum(axis=1, keepdims=True)\n",
    "\n",
    "        return d_h_prev\n",
    "\n",
    "    def train(self, inputs, targets, epochs):\n",
    "        h_prev = np.zeros((self.hidden_size, 1))\n",
    "        \n",
    "        for epoch in range(epochs):\n",
    "            loss = 0\n",
    "            for t in range(len(inputs)):\n",
    "                x = inputs[t]\n",
    "                y_true = targets[t]\n",
    "                \n",
    "                # Forward pass\n",
    "                y_pred = self.forward(x, h_prev)\n",
    "                \n",
    "                # Calculate loss (for monitoring)\n",
    "                loss += mse_loss(y_pred, y_true)\n",
    "                \n",
    "                # Backpropagate error\n",
    "                d_loss = mse_loss_derivative(y_pred, y_true)\n",
    "                d_h_next = self.backward(d_loss)\n",
    "                h_prev = y_pred  # update state\n",
    "                \n",
    "            loss /= len(inputs)\n",
    "            print(f'Epoch {epoch + 1}/{epochs}, Loss: {loss}')"
   ]
  },
  {
   "cell_type": "code",
   "execution_count": 22,
   "metadata": {},
   "outputs": [
    {
     "name": "stdout",
     "output_type": "stream",
     "text": [
      "Epoch 1/10, Loss: 1.4631657011012291\n",
      "Epoch 2/10, Loss: 1.4544157093686538\n",
      "Epoch 3/10, Loss: 1.4454900379272293\n",
      "Epoch 4/10, Loss: 1.4366358377377924\n",
      "Epoch 5/10, Loss: 1.4278639750239068\n",
      "Epoch 6/10, Loss: 1.4191842887337933\n",
      "Epoch 7/10, Loss: 1.4106053160286918\n",
      "Epoch 8/10, Loss: 1.4021341260261126\n",
      "Epoch 9/10, Loss: 1.3937762332885062\n",
      "Epoch 10/10, Loss: 1.3855356080947219\n"
     ]
    }
   ],
   "source": [
    "# Example setup (Assuming single feature input and output)\n",
    "input_size = 687\n",
    "hidden_size = 687\n",
    "epochs = 10\n",
    "learning_rate = 0.01\n",
    "\n",
    "# Example synthetic data\n",
    "inputs = [np.random.randn(input_size, 1) for _ in range(1628)]\n",
    "targets = [np.random.randn(input_size, 1) for _ in range(1628)]\n",
    "\n",
    "gru_cell = GRUCell(input_size, hidden_size, learning_rate)\n",
    "gru_cell.train(inputs, targets, epochs)"
   ]
  },
  {
   "cell_type": "code",
   "execution_count": 23,
   "metadata": {},
   "outputs": [
    {
     "data": {
      "text/plain": [
       "1628"
      ]
     },
     "execution_count": 23,
     "metadata": {},
     "output_type": "execute_result"
    }
   ],
   "source": [
    "len(targets)"
   ]
  },
  {
   "cell_type": "code",
   "execution_count": 24,
   "metadata": {},
   "outputs": [],
   "source": [
    "from tensorflow.keras.preprocessing.text import Tokenizer \n",
    "from tensorflow.keras.preprocessing.sequence import pad_sequences \n",
    "import tensorflow as tf \n",
    "import regex as re\n",
    "\n",
    "def file_to_sentence_list(file_path): \n",
    "\twith open(file_path, 'r') as file: \n",
    "\t\ttext = file.read() \n",
    "\n",
    "\t# Splitting the text into sentences using \n",
    "\t# delimiters like '.', '?', and '!' \n",
    "\tsentences = [sentence.strip() for sentence in re.split( \n",
    "\t\tr'(?<=[.!?])\\s+', text) if sentence.strip()] \n",
    "\n",
    "\treturn sentences \n",
    "\n",
    "file_path = 'pizza.txt'\n",
    "text_data = file_to_sentence_list(file_path) \n",
    "\n",
    "# Tokenize the text data \n",
    "tokenizer = Tokenizer() \n",
    "tokenizer.fit_on_texts(text_data) \n",
    "total_words = len(tokenizer.word_index) + 1\n",
    "\n",
    "# Create input sequences \n",
    "input_sequences = [] \n",
    "for line in text_data: \n",
    "\ttoken_list = tokenizer.texts_to_sequences([line])[0] \n",
    "\tfor i in range(1, len(token_list)): \n",
    "\t\tn_gram_sequence = token_list[:i+1] \n",
    "\t\tinput_sequences.append(n_gram_sequence) \n",
    "\n",
    "# Pad sequences and split into predictors and label \n",
    "max_sequence_len = 687 \n",
    "input_sequences = np.array(pad_sequences( \n",
    "\tinput_sequences, maxlen=max_sequence_len+1, padding='pre')) \n",
    "X, y = input_sequences[:, :-1], input_sequences[:, -1] \n",
    "\n",
    "# Convert target data to one-hot encoding \n",
    "y = tf.keras.utils.to_categorical(y, num_classes=total_words) "
   ]
  },
  {
   "cell_type": "code",
   "execution_count": 28,
   "metadata": {},
   "outputs": [],
   "source": [
    "# Example setup (Assuming single feature input and output)\n",
    "input_size = 687\n",
    "hidden_size = 687\n",
    "epochs = 10\n",
    "learning_rate = 0.01\n",
    "\n",
    "# Example synthetic data\n",
    "inputs = np.array(X)\n",
    "targets = np.array(y)\n"
   ]
  },
  {
   "cell_type": "code",
   "execution_count": 29,
   "metadata": {},
   "outputs": [
    {
     "data": {
      "text/plain": [
       "1628"
      ]
     },
     "execution_count": 29,
     "metadata": {},
     "output_type": "execute_result"
    }
   ],
   "source": [
    "len(targets)"
   ]
  },
  {
   "cell_type": "code",
   "execution_count": 30,
   "metadata": {},
   "outputs": [
    {
     "ename": "ValueError",
     "evalue": "shapes (687,687) and (1,687) not aligned: 687 (dim 1) != 1 (dim 0)",
     "output_type": "error",
     "traceback": [
      "\u001b[1;31m---------------------------------------------------------------------------\u001b[0m",
      "\u001b[1;31mValueError\u001b[0m                                Traceback (most recent call last)",
      "Cell \u001b[1;32mIn[30], line 2\u001b[0m\n\u001b[0;32m      1\u001b[0m gru_cell \u001b[38;5;241m=\u001b[39m GRUCell(input_size, hidden_size, learning_rate)\n\u001b[1;32m----> 2\u001b[0m \u001b[43mgru_cell\u001b[49m\u001b[38;5;241;43m.\u001b[39;49m\u001b[43mtrain\u001b[49m\u001b[43m(\u001b[49m\u001b[43minputs\u001b[49m\u001b[43m,\u001b[49m\u001b[43m \u001b[49m\u001b[43mtargets\u001b[49m\u001b[43m,\u001b[49m\u001b[43m \u001b[49m\u001b[43mepochs\u001b[49m\u001b[43m)\u001b[49m\n",
      "Cell \u001b[1;32mIn[21], line 103\u001b[0m, in \u001b[0;36mGRUCell.train\u001b[1;34m(self, inputs, targets, epochs)\u001b[0m\n\u001b[0;32m    101\u001b[0m     \u001b[38;5;66;03m# Backpropagate error\u001b[39;00m\n\u001b[0;32m    102\u001b[0m     d_loss \u001b[38;5;241m=\u001b[39m mse_loss_derivative(y_pred, y_true)\n\u001b[1;32m--> 103\u001b[0m     d_h_next \u001b[38;5;241m=\u001b[39m \u001b[38;5;28;43mself\u001b[39;49m\u001b[38;5;241;43m.\u001b[39;49m\u001b[43mbackward\u001b[49m\u001b[43m(\u001b[49m\u001b[43md_loss\u001b[49m\u001b[43m)\u001b[49m\n\u001b[0;32m    104\u001b[0m     h_prev \u001b[38;5;241m=\u001b[39m y_pred  \u001b[38;5;66;03m# update state\u001b[39;00m\n\u001b[0;32m    106\u001b[0m loss \u001b[38;5;241m/\u001b[39m\u001b[38;5;241m=\u001b[39m \u001b[38;5;28mlen\u001b[39m(inputs)\n",
      "Cell \u001b[1;32mIn[21], line 77\u001b[0m, in \u001b[0;36mGRUCell.backward\u001b[1;34m(self, d_h_next)\u001b[0m\n\u001b[0;32m     74\u001b[0m \u001b[38;5;28mself\u001b[39m\u001b[38;5;241m.\u001b[39mbh \u001b[38;5;241m-\u001b[39m\u001b[38;5;241m=\u001b[39m \u001b[38;5;28mself\u001b[39m\u001b[38;5;241m.\u001b[39mlearning_rate \u001b[38;5;241m*\u001b[39m d_h_tilde_raw\u001b[38;5;241m.\u001b[39msum(axis\u001b[38;5;241m=\u001b[39m\u001b[38;5;241m1\u001b[39m, keepdims\u001b[38;5;241m=\u001b[39m\u001b[38;5;28;01mTrue\u001b[39;00m)\n\u001b[0;32m     76\u001b[0m \u001b[38;5;28mself\u001b[39m\u001b[38;5;241m.\u001b[39mWr \u001b[38;5;241m-\u001b[39m\u001b[38;5;241m=\u001b[39m \u001b[38;5;28mself\u001b[39m\u001b[38;5;241m.\u001b[39mlearning_rate \u001b[38;5;241m*\u001b[39m np\u001b[38;5;241m.\u001b[39mdot(d_r \u001b[38;5;241m*\u001b[39m sigmoid_derivative(\u001b[38;5;28mself\u001b[39m\u001b[38;5;241m.\u001b[39mr), \u001b[38;5;28mself\u001b[39m\u001b[38;5;241m.\u001b[39mx\u001b[38;5;241m.\u001b[39mT)\n\u001b[1;32m---> 77\u001b[0m \u001b[38;5;28mself\u001b[39m\u001b[38;5;241m.\u001b[39mUr \u001b[38;5;241m-\u001b[39m\u001b[38;5;241m=\u001b[39m \u001b[38;5;28mself\u001b[39m\u001b[38;5;241m.\u001b[39mlearning_rate \u001b[38;5;241m*\u001b[39m \u001b[43mnp\u001b[49m\u001b[38;5;241;43m.\u001b[39;49m\u001b[43mdot\u001b[49m\u001b[43m(\u001b[49m\u001b[43md_r\u001b[49m\u001b[43m \u001b[49m\u001b[38;5;241;43m*\u001b[39;49m\u001b[43m \u001b[49m\u001b[43msigmoid_derivative\u001b[49m\u001b[43m(\u001b[49m\u001b[38;5;28;43mself\u001b[39;49m\u001b[38;5;241;43m.\u001b[39;49m\u001b[43mr\u001b[49m\u001b[43m)\u001b[49m\u001b[43m,\u001b[49m\u001b[43m \u001b[49m\u001b[38;5;28;43mself\u001b[39;49m\u001b[38;5;241;43m.\u001b[39;49m\u001b[43mh_prev\u001b[49m\u001b[38;5;241;43m.\u001b[39;49m\u001b[43mT\u001b[49m\u001b[43m)\u001b[49m\n\u001b[0;32m     78\u001b[0m \u001b[38;5;28mself\u001b[39m\u001b[38;5;241m.\u001b[39mbr \u001b[38;5;241m-\u001b[39m\u001b[38;5;241m=\u001b[39m \u001b[38;5;28mself\u001b[39m\u001b[38;5;241m.\u001b[39mlearning_rate \u001b[38;5;241m*\u001b[39m (d_r \u001b[38;5;241m*\u001b[39m sigmoid_derivative(\u001b[38;5;28mself\u001b[39m\u001b[38;5;241m.\u001b[39mr))\u001b[38;5;241m.\u001b[39msum(axis\u001b[38;5;241m=\u001b[39m\u001b[38;5;241m1\u001b[39m, keepdims\u001b[38;5;241m=\u001b[39m\u001b[38;5;28;01mTrue\u001b[39;00m)\n\u001b[0;32m     80\u001b[0m \u001b[38;5;28mself\u001b[39m\u001b[38;5;241m.\u001b[39mWz \u001b[38;5;241m-\u001b[39m\u001b[38;5;241m=\u001b[39m \u001b[38;5;28mself\u001b[39m\u001b[38;5;241m.\u001b[39mlearning_rate \u001b[38;5;241m*\u001b[39m np\u001b[38;5;241m.\u001b[39mdot(d_z \u001b[38;5;241m*\u001b[39m sigmoid_derivative(\u001b[38;5;28mself\u001b[39m\u001b[38;5;241m.\u001b[39mz), \u001b[38;5;28mself\u001b[39m\u001b[38;5;241m.\u001b[39mx\u001b[38;5;241m.\u001b[39mT)\n",
      "\u001b[1;31mValueError\u001b[0m: shapes (687,687) and (1,687) not aligned: 687 (dim 1) != 1 (dim 0)"
     ]
    }
   ],
   "source": [
    "gru_cell = GRUCell(input_size, hidden_size, learning_rate)\n",
    "gru_cell.train(inputs, targets, epochs)"
   ]
  }
 ],
 "metadata": {
  "kernelspec": {
   "display_name": "Python 3",
   "language": "python",
   "name": "python3"
  },
  "language_info": {
   "codemirror_mode": {
    "name": "ipython",
    "version": 3
   },
   "file_extension": ".py",
   "mimetype": "text/x-python",
   "name": "python",
   "nbconvert_exporter": "python",
   "pygments_lexer": "ipython3",
   "version": "3.9.4"
  }
 },
 "nbformat": 4,
 "nbformat_minor": 2
}
