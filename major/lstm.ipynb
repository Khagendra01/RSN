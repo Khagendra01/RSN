{
 "cells": [
  {
   "cell_type": "code",
   "execution_count": 40,
   "metadata": {},
   "outputs": [],
   "source": [
    "import tensorflow as tf \n",
    "from tensorflow.keras.models import Sequential \n",
    "from tensorflow.keras.layers import Embedding, LSTM, Dense, GRU, Layer \n",
    "from tensorflow.keras.preprocessing.text import Tokenizer \n",
    "from tensorflow.keras.preprocessing.sequence import pad_sequences \n",
    "import numpy as np \n",
    "import regex as re "
   ]
  },
  {
   "cell_type": "code",
   "execution_count": 41,
   "metadata": {},
   "outputs": [],
   "source": [
    "def file_to_sentence_list(file_path): \n",
    "\twith open(file_path, 'r') as file: \n",
    "\t\ttext = file.read() \n",
    "\n",
    "\t# Splitting the text into sentences using \n",
    "\t# delimiters like '.', '?', and '!' \n",
    "\tsentences = [sentence.strip() for sentence in re.split( \n",
    "\t\tr'(?<=[.!?])\\s+', text) if sentence.strip()] \n",
    "\n",
    "\treturn sentences \n",
    "\n",
    "file_path = 'pizza.txt'\n",
    "text_data = file_to_sentence_list(file_path) \n",
    "\n",
    "# Tokenize the text data \n",
    "tokenizer = Tokenizer() \n",
    "tokenizer.fit_on_texts(text_data) \n",
    "total_words = len(tokenizer.word_index) + 1\n",
    "\n",
    "# Create input sequences \n",
    "input_sequences = [] \n",
    "for line in text_data: \n",
    "\ttoken_list = tokenizer.texts_to_sequences([line])[0] \n",
    "\tfor i in range(1, len(token_list)): \n",
    "\t\tn_gram_sequence = token_list[:i+1] \n",
    "\t\tinput_sequences.append(n_gram_sequence) \n",
    "\n",
    "# Pad sequences and split into predictors and label \n",
    "max_sequence_len = max([len(seq) for seq in input_sequences]) \n",
    "input_sequences = np.array(pad_sequences( \n",
    "\tinput_sequences, maxlen=max_sequence_len, padding='pre')) \n",
    "X, y = input_sequences[:, :-1], input_sequences[:, -1] \n",
    "\n",
    "# Convert target data to one-hot encoding \n",
    "y = tf.keras.utils.to_categorical(y, num_classes=total_words) "
   ]
  },
  {
   "cell_type": "code",
   "execution_count": 42,
   "metadata": {},
   "outputs": [],
   "source": [
    "# Define the model \n",
    "model = Sequential() \n",
    "model.add(Embedding(total_words, 10, \n",
    "\t\t\t\t\tinput_length=max_sequence_len-1)) \n",
    "model.add(GRU(128))\n",
    "model.add(Dense(total_words, activation='softmax')) \n",
    "model.compile(loss='categorical_crossentropy', \n",
    "\t\t\toptimizer='adam', metrics=['accuracy']) "
   ]
  },
  {
   "cell_type": "code",
   "execution_count": null,
   "metadata": {},
   "outputs": [],
   "source": [
    "# Train the model \n",
    "model.fit(X, y, epochs=100, verbose=1) "
   ]
  },
  {
   "cell_type": "code",
   "execution_count": null,
   "metadata": {},
   "outputs": [
    {
     "name": "stdout",
     "output_type": "stream",
     "text": [
      "1/1 [==============================] - 0s 256ms/step\n",
      "1/1 [==============================] - 0s 19ms/step\n",
      "1/1 [==============================] - 0s 18ms/step\n",
      "1/1 [==============================] - 0s 17ms/step\n",
      "1/1 [==============================] - 0s 17ms/step\n",
      "Next predicted words: Pizza have different  become a symbol of comfort\n"
     ]
    }
   ],
   "source": [
    "# Generate next word predictions \n",
    "seed_text = \"Pizza have different \"\n",
    "next_words = 5\n",
    "\n",
    "for _ in range(next_words): \n",
    "\ttoken_list = tokenizer.texts_to_sequences([seed_text])[0] \n",
    "\ttoken_list = pad_sequences( \n",
    "\t\t[token_list], maxlen=max_sequence_len-1, padding='pre') \n",
    "\tpredicted_probs = model.predict(token_list) \n",
    "\tpredicted_word = tokenizer.index_word[np.argmax(predicted_probs)] \n",
    "\tseed_text += \" \" + predicted_word \n",
    "\n",
    "print(\"Next predicted words:\", seed_text) "
   ]
  },
  {
   "cell_type": "code",
   "execution_count": 82,
   "metadata": {},
   "outputs": [],
   "source": [
    "import numpy as np\n",
    "\n",
    "def sigmoid(x):\n",
    "    return 1 / (1 + np.exp(-x))\n",
    "\n",
    "def tanh(x):\n",
    "    return np.tanh(x)\n",
    "\n",
    "def softmax(x):\n",
    "    e_x = np.exp(x - np.max(x))  # subtract max for numerical stability\n",
    "    return e_x / e_x.sum(axis=1, keepdims=True)\n",
    "\n",
    "class GRU:\n",
    "    def __init__(self, input_dim, hidden_dim, output_dim):\n",
    "        self.input_dim = input_dim\n",
    "        self.hidden_dim = hidden_dim\n",
    "        self.output_dim = output_dim  # Store the output dimension\n",
    "\n",
    "        # Initialize weights\n",
    "        self.W_z = np.random.randn(input_dim + hidden_dim, hidden_dim)\n",
    "        self.W_r = np.random.randn(input_dim + hidden_dim, hidden_dim)\n",
    "        self.W_h = np.random.randn(input_dim + hidden_dim, hidden_dim)\n",
    "        self.b_z = np.zeros((1, hidden_dim))\n",
    "        self.b_r = np.zeros((1, hidden_dim))\n",
    "        self.b_h = np.zeros((1, hidden_dim))\n",
    "        self.W_out = np.random.randn(hidden_dim, output_dim)  # Output layer weights\n",
    "        self.b_out = np.zeros((1, output_dim))  # Output layer bias\n",
    "\n",
    "\n",
    "    def forward(self, x, h_prev):\n",
    "        # Add an extra dimension to the input vector\n",
    "        x = np.expand_dims(x, axis=0)\n",
    "\n",
    "        # Concatenate input and previous hidden state\n",
    "        combined = np.column_stack((x, h_prev))\n",
    "\n",
    "        # Calculate gates\n",
    "        z = sigmoid(np.dot(combined, self.W_z) + self.b_z)\n",
    "        r = sigmoid(np.dot(combined, self.W_r) + self.b_r)\n",
    "        h_tilde = np.tanh(np.dot(np.column_stack((x, r * h_prev)), self.W_h) + self.b_h)\n",
    "\n",
    "        # Calculate next hidden state\n",
    "        h_next = (1 - z) * h_prev + z * h_tilde\n",
    "\n",
    "        return h_next\n",
    "\n",
    "    def backward(self, x, h_prev, h_next, dh_next):\n",
    "        # Concatenate input and previous hidden state\n",
    "        combined = np.column_stack((x, h_prev))\n",
    "\n",
    "        # Calculate gates\n",
    "        z = sigmoid(np.dot(combined, self.W_z) + self.b_z)\n",
    "        r = sigmoid(np.dot(combined, self.W_r) + self.b_r)\n",
    "        h_tilde = np.tanh(np.dot(np.column_stack((x, r * h_prev)), self.W_h) + self.b_h)\n",
    "\n",
    "        # Calculate gradients\n",
    "        dh_tilde = dh_next * z\n",
    "        dz = dh_next * (h_tilde - h_prev) * z * (1 - z)\n",
    "        dr = dh_next * (1 - z) * (1 - h_tilde**2) * h_prev\n",
    "        dx = np.dot(dh_next * (1 - z), self.W_h[:, :self.input_dim].T) + np.dot(dr * h_prev, self.W_r[:, :self.input_dim].T)\n",
    "        dh_prev = dh_next * (1 - z) * r + np.dot(dr, self.W_r[:, self.input_dim:].T) + np.dot(dh_next * (1 - z) * (1 - h_tilde**2), self.W_h[:, self.input_dim:].T)\n",
    "\n",
    "        # Calculate weight gradients\n",
    "        dW_z = np.dot(combined.T, dz)\n",
    "        dW_r = np.dot(combined.T, dr)\n",
    "        dW_h = np.dot(np.column_stack((x, r * h_prev)).T, dh_tilde)\n",
    "        db_z = np.sum(dz, axis=0, keepdims=True)\n",
    "        db_r = np.sum(dr, axis=0, keepdims=True)\n",
    "        db_h = np.sum(dh_tilde, axis=0, keepdims=True)\n",
    "\n",
    "        # Update weights and biases\n",
    "        self.learning_rate = 0.01  # Example learning rate\n",
    "        self.W_z -= self.learning_rate * dW_z\n",
    "        self.W_r -= self.learning_rate * dW_r\n",
    "        self.W_h -= self.learning_rate * dW_h\n",
    "        self.b_z -= self.learning_rate * db_z\n",
    "        self.b_r -= self.learning_rate * db_r\n",
    "        self.b_h -= self.learning_rate * db_h\n",
    "\n",
    "        return dx, dh_prev, dW_z, dW_r, dW_h, db_z, db_r, db_h\n",
    "    \n",
    "    def train(self, X_train, y_train, epochs=100):\n",
    "        # Initialize the hidden state\n",
    "        h_prev = np.zeros((1, self.hidden_dim))\n",
    "\n",
    "        # Training loop\n",
    "        for epoch in range(epochs):\n",
    "            # Reset the total loss for this epoch\n",
    "            total_loss = 0\n",
    "\n",
    "            # Loop over the training data\n",
    "            for t in range(len(X_train)):\n",
    "                # Forward pass\n",
    "                h_prev = self.forward(X_train[t], h_prev)\n",
    "\n",
    "                # Compute the output\n",
    "                output = np.dot(h_prev, self.W_out) + self.b_out\n",
    "\n",
    "                # Compute the loss\n",
    "                loss = np.sum((output - y_train[t])**2) / 2\n",
    "\n",
    "                # Backward pass\n",
    "                dh_next = (output - y_train[t]) * self.W_out.T\n",
    "                _, _, dW_z, dW_r, dW_h, db_z, db_r, db_h = self.backward(X_train[t], h_prev, h_prev, dh_next)\n",
    "\n",
    "                # Update the total loss\n",
    "                total_loss += loss\n",
    "\n",
    "            # Print the loss for this epoch\n",
    "            print(f'Epoch {epoch+1}/{epochs}: Loss = {total_loss}')\n",
    "\n"
   ]
  },
  {
   "cell_type": "code",
   "execution_count": 93,
   "metadata": {},
   "outputs": [
    {
     "ename": "ValueError",
     "evalue": "operands could not be broadcast together with shapes (1,687) (1,128) ",
     "output_type": "error",
     "traceback": [
      "\u001b[1;31m---------------------------------------------------------------------------\u001b[0m",
      "\u001b[1;31mValueError\u001b[0m                                Traceback (most recent call last)",
      "Cell \u001b[1;32mIn[93], line 4\u001b[0m\n\u001b[0;32m      1\u001b[0m hidden_dim \u001b[38;5;241m=\u001b[39m \u001b[38;5;241m128\u001b[39m\n\u001b[0;32m      2\u001b[0m gru \u001b[38;5;241m=\u001b[39m GRU(max_sequence_len\u001b[38;5;241m-\u001b[39m\u001b[38;5;241m1\u001b[39m, hidden_dim, \u001b[38;5;241m1\u001b[39m)\n\u001b[1;32m----> 4\u001b[0m \u001b[43mgru\u001b[49m\u001b[38;5;241;43m.\u001b[39;49m\u001b[43mtrain\u001b[49m\u001b[43m(\u001b[49m\u001b[43mX\u001b[49m\u001b[43m,\u001b[49m\u001b[43m \u001b[49m\u001b[43my\u001b[49m\u001b[43m,\u001b[49m\u001b[43m \u001b[49m\u001b[43mepochs\u001b[49m\u001b[38;5;241;43m=\u001b[39;49m\u001b[38;5;241;43m100\u001b[39;49m\u001b[43m)\u001b[49m \n",
      "Cell \u001b[1;32mIn[82], line 103\u001b[0m, in \u001b[0;36mGRU.train\u001b[1;34m(self, X_train, y_train, epochs)\u001b[0m\n\u001b[0;32m    100\u001b[0m loss \u001b[38;5;241m=\u001b[39m np\u001b[38;5;241m.\u001b[39msum((output \u001b[38;5;241m-\u001b[39m y_train[t])\u001b[38;5;241m*\u001b[39m\u001b[38;5;241m*\u001b[39m\u001b[38;5;241m2\u001b[39m) \u001b[38;5;241m/\u001b[39m \u001b[38;5;241m2\u001b[39m\n\u001b[0;32m    102\u001b[0m \u001b[38;5;66;03m# Backward pass\u001b[39;00m\n\u001b[1;32m--> 103\u001b[0m dh_next \u001b[38;5;241m=\u001b[39m \u001b[43m(\u001b[49m\u001b[43moutput\u001b[49m\u001b[43m \u001b[49m\u001b[38;5;241;43m-\u001b[39;49m\u001b[43m \u001b[49m\u001b[43my_train\u001b[49m\u001b[43m[\u001b[49m\u001b[43mt\u001b[49m\u001b[43m]\u001b[49m\u001b[43m)\u001b[49m\u001b[43m \u001b[49m\u001b[38;5;241;43m*\u001b[39;49m\u001b[43m \u001b[49m\u001b[38;5;28;43mself\u001b[39;49m\u001b[38;5;241;43m.\u001b[39;49m\u001b[43mW_out\u001b[49m\u001b[38;5;241;43m.\u001b[39;49m\u001b[43mT\u001b[49m\n\u001b[0;32m    104\u001b[0m _, _, dW_z, dW_r, dW_h, db_z, db_r, db_h \u001b[38;5;241m=\u001b[39m \u001b[38;5;28mself\u001b[39m\u001b[38;5;241m.\u001b[39mbackward(X_train[t], h_prev, h_prev, dh_next)\n\u001b[0;32m    106\u001b[0m \u001b[38;5;66;03m# Update the total loss\u001b[39;00m\n",
      "\u001b[1;31mValueError\u001b[0m: operands could not be broadcast together with shapes (1,687) (1,128) "
     ]
    }
   ],
   "source": [
    "hidden_dim = 128\n",
    "gru = GRU(max_sequence_len-1, hidden_dim, 1)\n",
    "\n",
    "gru.train(X, y, epochs=100) "
   ]
  },
  {
   "cell_type": "code",
   "execution_count": 89,
   "metadata": {},
   "outputs": [
    {
     "name": "stdout",
     "output_type": "stream",
     "text": [
      "Predicted last word: I\n"
     ]
    },
    {
     "data": {
      "text/plain": [
       "array([[1.]])"
      ]
     },
     "execution_count": 89,
     "metadata": {},
     "output_type": "execute_result"
    }
   ],
   "source": [
    "input_sequence = ['I', 'am', 'a', 'bot']\n",
    "\n",
    "# Create a dictionary to map words to indices\n",
    "word_to_idx = {word: idx for idx, word in enumerate(set(input_sequence))}\n",
    "idx_to_word = {idx: word for word, idx in word_to_idx.items()}\n",
    "\n",
    "# One-hot encode the input sequence\n",
    "input_sequence = [np.eye(len(word_to_idx))[word_to_idx[word]] for word in input_sequence]\n",
    "\n",
    "# Initialize the GRU\n",
    "input_dim = len(word_to_idx)\n",
    "hidden_dim = 128\n",
    "gru = GRU(input_dim, hidden_dim, 1)\n",
    "\n",
    "# Forward pass through the GRU\n",
    "h_prev = np.zeros((1, hidden_dim))\n",
    "for x in input_sequence[:-1]:\n",
    "    h_prev = gru.forward(x, h_prev)\n",
    "\n",
    "# Predict the last word using the output layer\n",
    "output = np.dot(h_prev, gru.W_out) + gru.b_out\n",
    "output = softmax(output)  # apply softmax to get probabilities\n",
    "last_word_idx = np.argmax(output)\n",
    "predicted_word = idx_to_word[last_word_idx]\n",
    "\n",
    "print(f\"Predicted last word: {predicted_word}\")\n",
    "output\n"
   ]
  },
  {
   "cell_type": "code",
   "execution_count": null,
   "metadata": {},
   "outputs": [],
   "source": []
  }
 ],
 "metadata": {
  "kernelspec": {
   "display_name": "Python 3",
   "language": "python",
   "name": "python3"
  },
  "language_info": {
   "codemirror_mode": {
    "name": "ipython",
    "version": 3
   },
   "file_extension": ".py",
   "mimetype": "text/x-python",
   "name": "python",
   "nbconvert_exporter": "python",
   "pygments_lexer": "ipython3",
   "version": "3.9.4"
  }
 },
 "nbformat": 4,
 "nbformat_minor": 2
}
